{
 "cells": [
  {
   "cell_type": "code",
   "execution_count": 2,
   "metadata": {},
   "outputs": [
    {
     "name": "stdout",
     "output_type": "stream",
     "text": [
      "Data inserted successfully\n"
     ]
    }
   ],
   "source": [
    "from pymongo import MongoClient\n",
    "\n",
    "def insert_data():\n",
    "    client = MongoClient('mongodb://localhost:27017/')\n",
    "    db = client.local  # 'local' 데이터베이스 사용\n",
    "\n",
    "    # 책 데이터 삽입\n",
    "    books = [\n",
    "        {\n",
    "            \"title\": \"Kafka on the Shore\",\n",
    "            \"author\": \"Haruki Murakami\",\n",
    "            \"year\": 2002,\n",
    "            \"genre\": \"fantasy\",\n",
    "        },\n",
    "        {\n",
    "            \"title\": \"Norwegian Wood\",\n",
    "            \"author\": \"Haruki Murakami\",\n",
    "            \"year\": 1987,\n",
    "            \"genre\": \"thriller\",\n",
    "        },\n",
    "        {\n",
    "            \"title\": \"1Q84\",\n",
    "            \"author\": \"Haruki Murakami\",\n",
    "            \"year\": 2009,\n",
    "            \"genre\": \"fantasy\",\n",
    "        },\n",
    "    ]\n",
    "    db.books.insert_many(books)\n",
    "\n",
    "    # 영화 데이터 삽입\n",
    "    movies = [\n",
    "        {\n",
    "            \"title\": \"Inception\",\n",
    "            \"director\": \"Christopher Nolan\",\n",
    "            \"year\": 2010,\n",
    "            \"rating\": 8.8,\n",
    "            \"genre\": \"fantasy\",\n",
    "        },\n",
    "        {\n",
    "            \"title\": \"Interstellar\",\n",
    "            \"director\": \"Christopher Nolan\",\n",
    "            \"year\": 2014,\n",
    "            \"rating\": 8.6,\n",
    "            \"genre\": \"fantasy\",\n",
    "        },\n",
    "        {\n",
    "            \"title\": \"The Dark Knight\",\n",
    "            \"director\": \"Christopher Nolan\",\n",
    "            \"year\": 2008,\n",
    "            \"rating\": 9.0,\n",
    "            \"genre\": \"fantasy\",\n",
    "        },\n",
    "    ]\n",
    "    db.movies.insert_many(movies)\n",
    "\n",
    "    # 사용자 행동 데이터 삽입\n",
    "    user_actions = [\n",
    "        {\"user_id\": 1, \"action\": \"click\", \"timestamp\": \"2023-04-12T08:00:00Z\"},\n",
    "        {\"user_id\": 1, \"action\": \"view\", \"timestamp\": \"2023-04-12T09:00:00Z\"},\n",
    "        {\"user_id\": 2, \"action\": \"purchase\", \"timestamp\": \"2023-04-12T10:00:00Z\"}\n",
    "    ]\n",
    "    db.user_actions.insert_many(user_actions)\n",
    "\n",
    "    print(\"Data inserted successfully\")\n",
    "    client.close()\n",
    "\n",
    "if __name__ == \"__main__\":\n",
    "    insert_data()\n"
   ]
  }
 ],
 "metadata": {
  "kernelspec": {
   "display_name": "Python 3",
   "language": "python",
   "name": "python3"
  },
  "language_info": {
   "codemirror_mode": {
    "name": "ipython",
    "version": 3
   },
   "file_extension": ".py",
   "mimetype": "text/x-python",
   "name": "python",
   "nbconvert_exporter": "python",
   "pygments_lexer": "ipython3",
   "version": "3.9.6"
  }
 },
 "nbformat": 4,
 "nbformat_minor": 2
}
