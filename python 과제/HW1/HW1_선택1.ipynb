{
 "cells": [
  {
   "cell_type": "markdown",
   "metadata": {},
   "source": [
    "<span style=\"font-size:100%\">\n",
    "\n",
    "수업은 모두 열심히 들으셨나요?\n",
    "\n",
    "간혹 강의에서 언급되지 않은 내용이 문제로 나올 수 있습니다.<br>\n",
    "그럴땐 강의 내용 외 문제는 구글링을 통해 해결해주세요<br></span>\n",
    "<span style=\"font-size:80%\">\n",
    "(구글링 또한 개발자가 갖쳐야할 역량 중에 하나랍니다 😊)\n",
    "</span>\n",
    "\n",
    "---"
   ]
  },
  {
   "cell_type": "markdown",
   "metadata": {},
   "source": [
    "<span style=\"font-size:80%\">[문제1]<br><br></span>\n",
    "```인터프리트 방식에 대해 설명하고 2개 이상의 장점을 설명해주세요```"
   ]
  },
  {
   "cell_type": "markdown",
   "metadata": {},
   "source": [
    "<span style=\"color:red\">답변</span>"
   ]
  },
  {
   "cell_type": "markdown",
   "metadata": {},
   "source": [
    "It is different with Compile which uncode all of the codes in file at the first time and then run it. BUt the Interpreter uncode and run per line. So, it uncode and run the first line and then repeat the same way for the rest of the codes.\n",
    "The advantage is that the speed of translate the code is very fast. Since it translate the code per line, it is easy to find the code error which is called debugging. Also, Interpreter provide to run the part of code instead of running it all. Therefore, it will be much helpful to learn and to experiment any part developer wants."
   ]
  },
  {
   "cell_type": "markdown",
   "metadata": {},
   "source": [
    "---"
   ]
  },
  {
   "cell_type": "markdown",
   "metadata": {},
   "source": [
    "<span style=\"font-size:80%\">[문제2]<br><br></span>\n",
    "```동적 타입 방식의 장점과 단점을 간략히 설명해주세요```"
   ]
  },
  {
   "cell_type": "markdown",
   "metadata": {},
   "source": [
    "<span style=\"color:red\">답변</span>"
   ]
  },
  {
   "cell_type": "markdown",
   "metadata": {},
   "source": [
    "Dynamically typed has the advantage that the developer does not have to choose the type of data because the developer can put any mixed types of data in the file. This advantage can be bring the great efficiency and  flexibility of coding. Also, it is easier than statically typed since the beginner does not need to think about the data type.\n",
    "On the other hand, this advantage is not only bring the advantage, but it also can bring the disadvantage like issue of difficulty to check the problem of code error as code run. This can lead to the difficulty of solving the problem if the the code is long."
   ]
  },
  {
   "cell_type": "markdown",
   "metadata": {},
   "source": [
    "---"
   ]
  },
  {
   "cell_type": "markdown",
   "metadata": {},
   "source": [
    "<span style=\"font-size:80%\">[문제3]<br><br></span>\n",
    "```Python으로 정적타입 방식의 코드를 작성할 수 있는 방법을 구글링을 통해 검색 후 설명해주세요```"
   ]
  },
  {
   "cell_type": "markdown",
   "metadata": {},
   "source": [
    "<span style=\"color:red\">답변</span>"
   ]
  },
  {
   "cell_type": "markdown",
   "metadata": {},
   "source": [
    "Actually, the python is a dynamically typed language. Over the python 3.5, the developers are allowed to use the \"Type Hints\" which shows the developer what data type is expected. To use the Type Hints, the developer should plce the colon sign (:) between the parameter name and specify the data type. Also, he or she needs to place the arrow sign and data type on the aright saide of the paranthesis for return value.\n",
    "For example, sum_nubers(a: int, b: int) -> int:\n",
    "In this code, the ': int' after the a and b shows that the parameter of a and b shoul be in integer type. And the -> int shows that the return value should be in integer type."
   ]
  },
  {
   "cell_type": "markdown",
   "metadata": {},
   "source": [
    "---"
   ]
  },
  {
   "cell_type": "markdown",
   "metadata": {},
   "source": [
    "<span style=\"font-size:80%\">[문제4]<br><br></span>\n",
    "```프로세스와 스레드의 차이점을 설명해주세요```"
   ]
  },
  {
   "cell_type": "markdown",
   "metadata": {},
   "source": [
    "<span style=\"color:red\">답변</span>"
   ]
  },
  {
   "cell_type": "markdown",
   "metadata": {},
   "source": [
    "Process is an instance of program. Process is create by operating system and have mutiple threads. Threads lives inside process with sharing the same memory space. Process needs thread to handle the subtasks like reading keystrokes, loading HTML pages, or saving files.\n",
    "For example, if you open the Microsoft excel that means you create a process. Then, the threads are spawnd by Process to read the keystrokes and display text when you start to typing."
   ]
  },
  {
   "cell_type": "markdown",
   "metadata": {},
   "source": [
    "---"
   ]
  },
  {
   "cell_type": "markdown",
   "metadata": {},
   "source": [
    "<span style=\"font-size:80%\">[문제5]<br><br></span>\n",
    "```Python 2버전대와 3버전대의 차이를 성명해주세요```"
   ]
  },
  {
   "cell_type": "markdown",
   "metadata": {},
   "source": [
    "<span style=\"color:red\">답변</span>"
   ]
  },
  {
   "cell_type": "markdown",
   "metadata": {},
   "source": [
    "Python 3 is new version of Python 2 after deugging. Python 3 came with a new syntax intended to prevent the repetitive code which does the same task in different ways. So, Python 3 has readable and easily understandable syntax than python 2. Also, it was improved the performace of runtime. The print fuction was also added in Python 3. For ineger division, Python 3 always return the float value while Python 2 returned the integer value. Python 3 is not backwardly compatible with Python 2. Fortunately, it is easy to port Python 2 to Python 3. "
   ]
  },
  {
   "cell_type": "markdown",
   "metadata": {},
   "source": [
    "---"
   ]
  },
  {
   "cell_type": "markdown",
   "metadata": {},
   "source": [
    "<span style=\"font-size:80%\">[문제6]<br><br></span>\n",
    "```Python에서 메모리 관리는 어떻게 이루어지는지 설명해주세요```"
   ]
  },
  {
   "cell_type": "markdown",
   "metadata": {},
   "source": [
    "<span style=\"color:red\">답변</span>"
   ]
  },
  {
   "cell_type": "markdown",
   "metadata": {},
   "source": [
    "Memory management in Python is handled by private heap space. The heap is a region of memory where objects are stored and managed. The memory manager takes of of allocating memoery for new objects and freeing memoery for ojbects that are no longer in use. The reference counting does the task of allocating memoery for new objects. Garbage collection does the task of freeing memory for objects that are no longer in use. Also, there is Memory pools which manage the memory allocating of small objects efficiently."
   ]
  }
 ],
 "metadata": {
  "language_info": {
   "name": "python"
  }
 },
 "nbformat": 4,
 "nbformat_minor": 2
}
